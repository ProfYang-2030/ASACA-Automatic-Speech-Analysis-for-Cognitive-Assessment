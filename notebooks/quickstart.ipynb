{
 "cells": [
  {
   "cell_type": "markdown",
   "metadata": {},
   "source": [
    "# ASACA Quick-Start\n",
    "\n",
    "Welcome to **ASACA — Automated Speech Analysis for Cognitive Assessment**.  \n",
    "This notebook shows how to clone the repo, build & install the package locally (CPU-only), run a first inference, launch the GUI, and understand what happens under the hood."
   ]
  },
  {
   "cell_type": "markdown",
   "metadata": {},
   "source": [
    "## 1  Prerequisites\n",
    "\n",
    "* Python ≥ 3.11 (tested on 3.11.9)\n",
    "* Git + Git LFS (model weights live in `Models/`)\n",
    "* `build` & `pip` for packaging\n",
    "* **CPU-only** runtime (no GPU/CUDA needed)"
   ]
  },
  {
   "cell_type": "code",
   "execution_count": null,
   "metadata": {
    "tags": ["bash"]
   },
   "outputs": [],
   "source": [
    "# Clone the repository and pull LFS weights\n",
    "!git clone https://github.com/RhysonYang-2030/ASACA-Automatic-Speech-Analysis-for-Cognitive-Assessment.git\n",
    "%cd ASACA-Automatic-Speech-Analysis-for-Cognitive-Assessment\n",
    "!git lfs install --skip-smudge  # in case LFS not yet initialised\n",
    "!git lfs pull"
   ]
  },
  {
   "cell_type": "markdown",
   "metadata": {},
   "source": [
    "## 2  Build & install (editable OR wheel)\n",
    "Choose **one** of the two options:"
   ]
  },
  {
   "cell_type": "code",
   "execution_count": null,
   "metadata": {
    "tags": ["bash"]
   },
   "outputs": [],
   "source": [
    "# Option A — editable install (recommended while developing)\n",
    "import sys, subprocess, textwrap, os, pathlib, json"
   ]
  },
  {
   "cell_type": "code",
   "metadata": {
    "tags": ["bash"]
   },
   "execution_count": null,
   "outputs": [],
   "source": [
    "!pip install -e .[gui]"
   ]
  },
  {
   "cell_type": "code",
   "execution_count": null,
   "metadata": {
    "tags": ["bash"]
   },
   "outputs": [],
   "source": [
    "# Option B — build a wheel (exactly what CI does)\n",
    "!python -m build\n",
    "!pip install dist/asaca-0.1.0-py3-none-any.whl"
   ]
  },
  {
   "cell_type": "markdown",
   "metadata": {},
   "source": [
    "## 3  Smoke test\n",
    "Verify that the CLI is on `$PATH`:"
   ]
  },
  {
   "cell_type": "code",
   "execution_count": null,
   "metadata": {
    "tags": ["bash"]
   },
   "outputs": [],
   "source": [
    "!asaca --help | head -n 20"
   ]
  },
  {
   "cell_type": "markdown",
   "metadata": {},
   "source": [
    "## 4  Run your first inference\n",
    "We’ll use the bundled **5 MB** demo file."
   ]
  },
  {
   "cell_type": "code",
   "execution_count": null,
   "metadata": {
    "tags": ["bash"]
   },
   "outputs": [],
   "source": [
    "!python -m asaca infer samples/demo.wav -o outputs"
   ]
  },
  {
   "cell_type": "markdown",
   "metadata": {},
   "source": [
    "Expected console output (truncated):\n",
    "```text\n",
    "Prediction  : MCI  (p = 0.71)\n",
    "CTC-segmented transcript saved to outputs/\n",
    "PDF report  saved to outputs/report.pdf\n",
    "```"
   ]
  },
  {
   "cell_type": "markdown",
   "metadata": {},
   "source": [
    "## 5  Launch the GUI\n",
    "If PyQt5 isn’t installed, re-run the install cell with `[gui]` extras."
   ]
  },
  {
   "cell_type": "code",
   "metadata": {
    "tags": ["bash"]
   },
   "execution_count": null,
   "outputs": [],
   "source": [
    "!python -m asaca gui"
   ]
  },
  {
   "cell_type": "markdown",
   "metadata": {},
   "source": [
    "The window lets you:\n",
    "1. Load a WAV/FLAC file\n",
    "2. View waveform, transcript, and segmentation\n",
    "3. Export PDF report or JSON metrics\n",
    "4. Record directly from microphone (→ *record* button)"
   ]
  },
  {
   "cell_type": "markdown",
   "metadata": {},
   "source": [
    "## 6 Underlying principles\n",
    "![ASACA pipeline](../docs/img/pipeline.png)"
   ]
  },
  {
   "cell_type": "markdown",
   "metadata": {},
   "source": [
    "Workflow summary:\n",
    "1. **wav2vec 2** (fine-tuned) produces frame-level logits\n",
    "2. **CTC Layer** → decoded by greedy CTC decoder\n",
    "3. **CTC segmentation** aligns timestamps\n",
    "4. Forced alignment → pause & syllable metrics\n",
    "5. **Inference head** (log-reg) returns *HC / MCI / AD* with SHAP explainability"
   ]
  },
  
  {
   "cell_type": "markdown",
   "metadata": {},
   "source": [
    "## 7  Custom model paths & GPU flag\n",
    "```bash\n",
    "python -m asaca infer my.wav \\\n",
    "    --processor Models \\\n",
    "    --model     Models \\\n",
    "    --device cpu        # or cuda:0 if you have a GPU build of PyTorch\n",
    "```"
   ]
  },
  {
   "cell_type": "markdown",
   "metadata": {},
   "source": [
    "## 8  Troubleshooting\n",
    "| Error | Likely cause | Fix |\n",
    "|-------|-------------|------|\n",
    "| `ModuleNotFoundError: PyQt5` | GUI extras not installed | `pip install PyQt5>=5.15` |\n",
    "| `nltk.corpus.cmudict` missing | first-time run | `python -m nltk.downloader cmudict` |\n",
    "| Torch/Torchvision DLL popup (Windows) | mismatched versions | `pip install torch==2.0.1+cpu torchvision==0.15.2+cpu -f https://download.pytorch.org/whl/torch_stable.html` |"
   ]
  },
  {
   "cell_type": "markdown",
   "metadata": {},
   "source": [
    "## 9  Citation\n",
    "If you use ASACA in published work:\n",
    "```bibtex\n",
    "@mastersthesis{yang2025asaca,\n",
    "  author  = {Xinbo Yang},\n",
    "  title   = {ASACA — Automatic Speech & Cognition Assessment},\n",
    "  school  = {Trinity College Dublin},\n",
    "  year    = {2025},\n",
    "  url     = {https://github.com/ProfYang-2030/ASACA-Automatic-Speech-Analysis-for-Cognitive-Assessment}\n",
    "}\n",
    "```"
   ]
  }
 ],
 "metadata": {
  "kernelspec": {
   "display_name": "Python 3",
   "language": "python",
   "name": "python3"
  },
  "language_info": {
   "name": "python",
   "version": "3.11"
  }
 },
 "nbformat": 4,
 "nbformat_minor": 5
}
